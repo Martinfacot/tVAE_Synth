{
 "cells": [
  {
   "cell_type": "markdown",
   "id": "ef7c5e6e",
   "metadata": {},
   "source": [
    "# TVAE Latent Space Visualization\n",
    "\n",
    "This notebook demonstrates how to visualize and analyze the latent space of a Tabular Variational Autoencoder (TVAE) model. We'll use the RHC dataset and explore different visualization techniques to understand the structure of the learned latent space."
   ]
  },
  {
   "cell_type": "markdown",
   "id": "5abf31f5",
   "metadata": {},
   "source": [
    "## Import Required Libraries\n",
    "\n",
    "First, let's import all the necessary libraries and modules that we'll need for our analysis."
   ]
  },
  {
   "cell_type": "code",
   "execution_count": 1,
   "id": "4987e940",
   "metadata": {},
   "outputs": [],
   "source": [
    "import os\n",
    "import sys\n",
    "import pickle\n",
    "import pandas as pd\n",
    "import numpy as np\n",
    "import matplotlib.pyplot as plt\n",
    "from sdv.metadata import SingleTableMetadata\n",
    "from sdv.metadata import Metadata\n",
    "\n",
    "# Add the project root directory to the path so we can import our modules\n",
    "sys.path.append(os.path.abspath(os.path.join(os.path.dirname('__file__'), '..')))\n",
    "\n",
    "from tvae.tvae_wrapper import TVAESynthesizer\n",
    "from tvae.visualization import (\n",
    "    visualize_latent_space,\n",
    "    compare_original_synthetic_latent,\n",
    "    calculate_latent_statistics,\n",
    "    plot_latent_dimensions\n",
    ")"
   ]
  },
  {
   "cell_type": "markdown",
   "id": "1ae324a9",
   "metadata": {},
   "source": [
    "## Load Data and Trained Model\n",
    "\n",
    "Now we'll load the RHC dataset and either load an existing trained TVAE model or train a new one if none exists."
   ]
  },
  {
   "cell_type": "code",
   "execution_count": null,
   "id": "108c5f24",
   "metadata": {},
   "outputs": [],
   "source": [
    "# Define paths\n",
    "data_path = os.path.join('data', 'rhc.csv')\n",
    "metadata_path = os.path.join('data', 'metadata.json')\n",
    "model_path = os.path.join('examples', 'test_model_tvae_ep1000_compress32.pkl')\n",
    "synthetic_path = os.path.join('examples', 'synthetic_data_tvae_ep1000_compress32.csv')\n",
    "\n",
    "# Create output directory for visualizations\n",
    "output_dir = os.path.join('Images', 'latent_space')\n",
    "os.makedirs(output_dir, exist_ok=True)\n",
    "\n",
    "# Load the data\n",
    "print(\"Loading data...\")\n",
    "data = pd.read_csv(data_path)\n",
    "\n",
    "# Display the first few rows of the data\n",
    "data.head()"
   ]
  },
  {
   "cell_type": "code",
   "execution_count": null,
   "id": "6eae096d",
   "metadata": {},
   "outputs": [],
   "source": [
    "# Function to load a trained model\n",
    "def load_model(model_path):\n",
    "    \"\"\"Load a trained TVAE model from disk.\"\"\"\n",
    "    with open(model_path, 'rb') as f:\n",
    "        return pickle.load(f)"
   ]
  },
  {
   "cell_type": "code",
   "execution_count": null,
   "id": "4d0021b0",
   "metadata": {},
   "outputs": [],
   "source": [
    "# Check if a trained model exists, otherwise train a new one\n",
    "if os.path.exists(model_path):\n",
    "    print(f\"Loading existing model from {model_path}\")\n",
    "    tvae = load_model(model_path)\n",
    "else:\n",
    "    print(\"Training a new TVAE model...\")\n",
    "    # Load metadata\n",
    "    try:\n",
    "        metadata = Metadata.load(metadata_path)\n",
    "        # Extract single table metadata for 'rhc' table\n",
    "        metadata = metadata.tables['rhc']\n",
    "    except:\n",
    "        # If loading fails, create new metadata\n",
    "        print(\"Creating new metadata...\")\n",
    "        metadata = SingleTableMetadata()\n",
    "        metadata.detect_from_dataframe(data)\n",
    "    \n",
    "    # Initialize and train TVAE\n",
    "    tvae = TVAESynthesizer(\n",
    "        metadata=metadata,\n",
    "        epochs=50,  # Using fewer epochs for demonstration\n",
    "        embedding_dim=32,\n",
    "        compress_dims=(64, 32),\n",
    "        decompress_dims=(32, 64),\n",
    "        verbose=True\n",
    "    )\n",
    "    tvae.fit(data)\n",
    "    \n",
    "    # Save the model\n",
    "    with open(model_path, 'wb') as f:\n",
    "        pickle.dump(tvae, f)"
   ]
  },
  {
   "cell_type": "markdown",
   "id": "347fc269",
   "metadata": {},
   "source": [
    "## Generate and Save Synthetic Data\n",
    "\n",
    "Let's generate synthetic data using our trained model or load existing synthetic data if available."
   ]
  },
  {
   "cell_type": "code",
   "execution_count": null,
   "id": "08b927bc",
   "metadata": {},
   "outputs": [],
   "source": [
    "# Load synthetic data if it exists or generate new data\n",
    "if os.path.exists(synthetic_path):\n",
    "    print(f\"Loading existing synthetic data from {synthetic_path}\")\n",
    "    synthetic_data = pd.read_csv(synthetic_path)\n",
    "else:\n",
    "    print(\"Generating synthetic data...\")\n",
    "    synthetic_data = tvae.sample(len(data))\n",
    "    synthetic_data.to_csv(synthetic_path, index=False)\n",
    "\n",
    "# Display first few rows of synthetic data\n",
    "synthetic_data.head()"
   ]
  },
  {
   "cell_type": "markdown",
   "id": "d71bd4d9",
   "metadata": {},
   "source": [
    "## Visualize Latent Space\n",
    "\n",
    "Now we'll visualize the latent space of our TVAE model, coloring the points by various attributes to understand the structure of the learned representations."
   ]
  },
  {
   "cell_type": "code",
   "execution_count": null,
   "id": "75f87b09",
   "metadata": {},
   "outputs": [],
   "source": [
    "# List of columns we want to color by\n",
    "color_columns = ['death', 'sex', 'age']\n",
    "\n",
    "# Initialize a dictionary to store results\n",
    "visualization_results = {}\n",
    "\n",
    "# Visualize latent space colored by different attributes\n",
    "print(\"Visualizing latent space...\")\n",
    "\n",
    "for color_column in color_columns:\n",
    "    if color_column in data.columns:\n",
    "        save_path = os.path.join(output_dir, f'latent_space_{color_column}.png')\n",
    "        fig, latent_emb, umap_emb = visualize_latent_space(\n",
    "            tvae_synthesizer=tvae,\n",
    "            data=data,\n",
    "            color_by=color_column,\n",
    "            save_path=save_path\n",
    "        )\n",
    "        \n",
    "        # Store results for later use\n",
    "        visualization_results[color_column] = {\n",
    "            'fig': fig,\n",
    "            'latent_emb': latent_emb,\n",
    "            'umap_emb': umap_emb\n",
    "        }\n",
    "        \n",
    "        # Display the figure\n",
    "        plt.figure(fig.number)\n",
    "        plt.title(f'Latent Space colored by {color_column}')\n",
    "        plt.show()"
   ]
  },
  {
   "cell_type": "markdown",
   "id": "2308f0dd",
   "metadata": {},
   "source": [
    "## Compare Original and Synthetic Data\n",
    "\n",
    "Let's compare the original data and synthetic data in the latent space to see how well our model captures the data distribution."
   ]
  },
  {
   "cell_type": "code",
   "execution_count": null,
   "id": "45eee9f1",
   "metadata": {},
   "outputs": [],
   "source": [
    "# Compare original and synthetic data in latent space\n",
    "print(\"Comparing original and synthetic data in latent space...\")\n",
    "compare_path = os.path.join(output_dir, 'compare_original_synthetic.png')\n",
    "compare_fig, compare_latent, compare_umap = compare_original_synthetic_latent(\n",
    "    tvae_synthesizer=tvae,\n",
    "    original_data=data,\n",
    "    synthetic_data=synthetic_data,\n",
    "    save_path=compare_path\n",
    ")\n",
    "\n",
    "# Display the comparison figure\n",
    "plt.figure(compare_fig.number)\n",
    "plt.title('Original vs Synthetic Data in Latent Space')\n",
    "plt.show()"
   ]
  },
  {
   "cell_type": "markdown",
   "id": "c8c8d689",
   "metadata": {},
   "source": [
    "## Analyze Latent Dimensions\n",
    "\n",
    "Now we'll calculate statistics of the latent dimensions and visualize the distributions of these dimensions to better understand the learned representations."
   ]
  },
  {
   "cell_type": "code",
   "execution_count": null,
   "id": "ba521ce5",
   "metadata": {},
   "outputs": [],
   "source": [
    "# Calculate statistics of the latent dimensions\n",
    "print(\"Calculating latent space statistics...\")\n",
    "latent_stats = calculate_latent_statistics(compare_latent['original'])\n",
    "print(\"Statistics of latent dimensions:\")\n",
    "display(pd.DataFrame(latent_stats))"
   ]
  },
  {
   "cell_type": "code",
   "execution_count": null,
   "id": "f538d781",
   "metadata": {},
   "outputs": [],
   "source": [
    "# Plot distributions of latent dimensions\n",
    "print(\"Plotting latent dimension distributions...\")\n",
    "dims_path = os.path.join(output_dir, 'latent_dimensions.png')\n",
    "dims_fig = plot_latent_dimensions(\n",
    "    latent_embeddings=compare_latent['original'],\n",
    "    n_dims=min(20, tvae.embedding_dim),  # Plot at most 20 dimensions\n",
    "    save_path=dims_path\n",
    ")\n",
    "\n",
    "# Display the dimensions figure\n",
    "plt.figure(dims_fig.number)\n",
    "plt.title('Distributions of Latent Dimensions')\n",
    "plt.tight_layout()\n",
    "plt.show()"
   ]
  },
  {
   "cell_type": "markdown",
   "id": "a5f23489",
   "metadata": {},
   "source": [
    "## Conclusion\n",
    "\n",
    "In this notebook, we've demonstrated how to:\n",
    "1. Load and prepare data for a TVAE model\n",
    "2. Load or train a TVAE model\n",
    "3. Generate synthetic data using the trained model\n",
    "4. Visualize the latent space with different colorings\n",
    "5. Compare original and synthetic data in the latent space\n",
    "6. Analyze the statistical properties of latent dimensions\n",
    "\n",
    "These visualizations and analyses help us understand the structure of the TVAE's latent space and how well it captures the original data distribution."
   ]
  }
 ],
 "metadata": {
  "kernelspec": {
   "display_name": "venv",
   "language": "python",
   "name": "python3"
  },
  "language_info": {
   "codemirror_mode": {
    "name": "ipython",
    "version": 3
   },
   "file_extension": ".py",
   "mimetype": "text/x-python",
   "name": "python",
   "nbconvert_exporter": "python",
   "pygments_lexer": "ipython3",
   "version": "3.10.12"
  }
 },
 "nbformat": 4,
 "nbformat_minor": 5
}
